{
 "cells": [
  {
   "cell_type": "code",
   "execution_count": 2,
   "metadata": {},
   "outputs": [
    {
     "name": "stderr",
     "output_type": "stream",
     "text": [
      "/opt/conda/lib/python3.6/site-packages/ggplot/utils.py:81: FutureWarning: pandas.tslib is deprecated and will be removed in a future version.\n",
      "You can access Timestamp as pandas.Timestamp\n",
      "  pd.tslib.Timestamp,\n",
      "/opt/conda/lib/python3.6/site-packages/ggplot/stats/smoothers.py:4: FutureWarning: The pandas.lib module is deprecated and will be removed in a future version. These are private functions and can be accessed from pandas._libs.lib instead\n",
      "  from pandas.lib import Timestamp\n",
      "/opt/conda/lib/python3.6/site-packages/statsmodels/compat/pandas.py:56: FutureWarning: The pandas.core.datetools module is deprecated and will be removed in a future version. Please use the pandas.tseries module instead.\n",
      "  from pandas.core import datetools\n"
     ]
    }
   ],
   "source": [
    "import pandas\n",
    "from ggplot import *\n",
    "import numpy"
   ]
  },
  {
   "cell_type": "code",
   "execution_count": 3,
   "metadata": {
    "collapsed": true
   },
   "outputs": [],
   "source": [
    "prices_data = pandas.read_csv('prices.csv')\n",
    "companylist_data = pandas.read_csv('companylist.csv')"
   ]
  },
  {
   "cell_type": "code",
   "execution_count": 4,
   "metadata": {},
   "outputs": [
    {
     "name": "stderr",
     "output_type": "stream",
     "text": [
      "/opt/conda/lib/python3.6/site-packages/ipykernel_launcher.py:4: SettingWithCopyWarning: \n",
      "A value is trying to be set on a copy of a slice from a DataFrame.\n",
      "Try using .loc[row_indexer,col_indexer] = value instead\n",
      "\n",
      "See the caveats in the documentation: http://pandas.pydata.org/pandas-docs/stable/indexing.html#indexing-view-versus-copy\n",
      "  after removing the cwd from sys.path.\n"
     ]
    },
    {
     "data": {
      "image/png": "[encoded data removed]",
      "text/plain": [
       "<matplotlib.figure.Figure at 0x7fed8433ecc0>"
      ]
     },
     "metadata": {},
     "output_type": "display_data"
    },
    {
     "data": {
      "text/plain": [
       "(0.0085362592274489391, <ggplot: (-9223363245723402650)>)"
      ]
     },
     "execution_count": 4,
     "metadata": {},
     "output_type": "execute_result"
    }
   ],
   "source": [
    "selected_symbol = \"YHOO\"\n",
    "\n",
    "selected_data = prices_data[prices_data['symbol'] == selected_symbol]\n",
    "selected_data['trend'] = selected_data['close'] - selected_data['open'];\n",
    "\n",
    "def normalize_features(df):\n",
    "    mu = df.mean()\n",
    "    sigma = df.std()\n",
    "    \n",
    "    if (sigma == 0).any():\n",
    "        raise Exception(\"not normalized!\")\n",
    "        \n",
    "    df_normalized = (df - mu) / sigma\n",
    "    return df_normalized, mu, sigma\n",
    "\n",
    "def compute_cost(features, values, theta):\n",
    "    \n",
    "    m = len(values)\n",
    "    \n",
    "    sum_of =(numpy.square(numpy.dot(features,theta) - values).sum())\n",
    "    cost = (sum_of /(2*m))\n",
    "    \n",
    "    return cost\n",
    "\n",
    "def gradient_descent(features, values, theta, alpha, num_iterations):\n",
    "    \n",
    "    m = len(values)\n",
    "    cost_history = []\n",
    "    \n",
    "    for i in range(num_iterations):\n",
    "        predicted_values = numpy.dot(features, theta)\n",
    "        theta = theta - (alpha/m)*numpy.dot((predicted_values - values), features)\n",
    "        \n",
    "        cost = compute_cost(features, values, theta)\n",
    "        cost_history.append(cost)\n",
    "        \n",
    "    return theta, pandas.Series(cost_history)\n",
    "\n",
    "def compute_r_squared(val, predictions):\n",
    "    SST = ((val-numpy.mean(val))**2).sum()\n",
    "    SSReg = ((predictions - val)**2).sum()\n",
    "    r_squared = 1 - SSReg/SST\n",
    "    \n",
    "    return r_squared\n",
    "\n",
    "def plot_data(alpha, cost_history):\n",
    "    cost_df = pandas.DataFrame({\n",
    "        'Cost History' : cost_history,\n",
    "        'Iteration' : range(len(cost_history))})\n",
    "        \n",
    "    return ggplot(cost_df, aes(x = 'Iteration', y = 'Cost History')) +\\\n",
    "    geom_point()\n",
    "    \n",
    "def predictions(dataframe):\n",
    "    features = dataframe[['open' ,'volume']]\n",
    "    \n",
    "    values = dataframe['trend']\n",
    "    m = len(values)\n",
    "    \n",
    "    features, mu, sigma = normalize_features(features)\n",
    "    features['ones'] = numpy.ones(m)\n",
    "    \n",
    "    features_array = numpy.array(features)\n",
    "    values_array = numpy.array(values)\n",
    "    \n",
    "    alpha = 0.01\n",
    "    num_iterations = 200\n",
    "    \n",
    "    theta_gradient = numpy.zeros(len(features.columns))\n",
    "    theta_gradient, cost_history = gradient_descent(features_array, values_array, theta_gradient, alpha, num_iterations)\n",
    "    \n",
    "    predictions = numpy.dot(features_array, theta_gradient)\n",
    "    \n",
    "    plot = plot_data(alpha, cost_history)\n",
    "        \n",
    "    return compute_r_squared(values_array,predictions), plot\n",
    "\n",
    "predictions(selected_data)\n"
   ]
  },
  {
   "cell_type": "code",
   "execution_count": null,
   "metadata": {
    "collapsed": true
   },
   "outputs": [],
   "source": []
  }
 ],
 "metadata": {
  "kernelspec": {
   "display_name": "Python 3",
   "language": "python",
   "name": "python3"
  },
  "language_info": {
   "codemirror_mode": {
    "name": "ipython",
    "version": 3
   },
   "file_extension": ".py",
   "mimetype": "text/x-python",
   "name": "python",
   "nbconvert_exporter": "python",
   "pygments_lexer": "ipython3",
   "version": "3.6.3"
  }
 },
 "nbformat": 4,
 "nbformat_minor": 2
}
